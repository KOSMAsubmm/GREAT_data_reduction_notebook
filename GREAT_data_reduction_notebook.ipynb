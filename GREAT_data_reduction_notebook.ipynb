{
 "cells": [
  {
   "cell_type": "markdown",
   "metadata": {},
   "source": [
    "# Background\n",
    "This notebook goes through the off position reduction in class for the orion B map"
   ]
  },
  {
   "cell_type": "code",
   "execution_count": 1,
   "metadata": {},
   "outputs": [
    {
     "data": {
      "text/html": [
       "\n",
       "// http://lokeshdhakar.com/projects/lightbox2\n",
       "<link href=\"./notebook_support/lightbox2-master/dist/css/lightbox.css\" rel=\"stylesheet\">\n",
       "\n",
       "<script src=\"./notebook_support/lightbox2-master/dist/js/lightbox.js\"></script>\n",
       "\n",
       "<script>\n",
       "  function code_toggle() {\n",
       "    if (code_shown){\n",
       "      $('div.input').hide('500');\n",
       "      $('#toggleButton').val('Show Code')\n",
       "    } else {\n",
       "      $('div.input').show('500');\n",
       "      $('#toggleButton').val('Hide Code')\n",
       "    }\n",
       "    code_shown = !code_shown\n",
       "  }\n",
       "\n",
       "  $( document ).ready(function(){\n",
       "    code_shown=false;\n",
       "    $('div.input').hide()\n",
       "  });\n",
       "</script>\n",
       "<form action=\"javascript:code_toggle()\"><input type=\"submit\" id=\"toggleButton\" value=\"Show Code\"></form>"
      ],
      "text/plain": [
       "<IPython.core.display.HTML object>"
      ]
     },
     "execution_count": 1,
     "metadata": {},
     "output_type": "execute_result"
    }
   ],
   "source": [
    "from IPython.display import HTML\n",
    "\n",
    "HTML('''\n",
    "// http://lokeshdhakar.com/projects/lightbox2\n",
    "<link href=\"./notebook_support/lightbox2-master/dist/css/lightbox.css\" rel=\"stylesheet\">\n",
    "\n",
    "<script src=\"./notebook_support/lightbox2-master/dist/js/lightbox.js\"></script>\n",
    "\n",
    "<script>\n",
    "  function code_toggle() {\n",
    "    if (code_shown){\n",
    "      $('div.input').hide('500');\n",
    "      $('#toggleButton').val('Show Code')\n",
    "    } else {\n",
    "      $('div.input').show('500');\n",
    "      $('#toggleButton').val('Hide Code')\n",
    "    }\n",
    "    code_shown = !code_shown\n",
    "  }\n",
    "\n",
    "  $( document ).ready(function(){\n",
    "    code_shown=false;\n",
    "    $('div.input').hide()\n",
    "  });\n",
    "</script>\n",
    "<form action=\"javascript:code_toggle()\"><input type=\"submit\" id=\"toggleButton\" value=\"Show Code\"></form>''')"
   ]
  },
  {
   "cell_type": "markdown",
   "metadata": {},
   "source": [
    "# import commands"
   ]
  },
  {
   "cell_type": "code",
   "execution_count": 121,
   "metadata": {},
   "outputs": [],
   "source": [
    "## import\n",
    "from astropy.io import fits\n",
    "import numpy as np\n",
    "import glob\n",
    "import datetime\n",
    "import pandas as pd\n",
    "import logging\n",
    "import os,re\n",
    "import time\n",
    "import subprocess\n",
    "from matplotlib.lines import lineStyles\n",
    "import jinja2\n",
    "import requests\n",
    "\n",
    "# notebook\n",
    "from IPython.display import Image, display\n",
    "from IPython.display import HTML\n",
    "# astropy\n",
    "from astropy.io import fits\n",
    "from astropy import constants as const\n",
    "from astropy import units as u\n",
    "\n",
    "\n",
    "def PrintMessage(message):\n",
    "    html='''\n",
    "    <table style=\"width:100%\">\n",
    "        <tr>\n",
    "            <td style='text-align:center;vertical-align:middle'>{0}</td>\n",
    "        </tr>\n",
    "    </table>\n",
    "    '''\n",
    "    display(HTML(html.format(message)))\n",
    "\n",
    "\n",
    "def Change1dListTo2dList(array, column=2):\n",
    "    test = []\n",
    "    test_row = []\n",
    "    for item in array:\n",
    "        test_row.append(item)\n",
    "        if len(test_row)> column-1:\n",
    "            test.append(test_row)\n",
    "            test_row = []\n",
    "    if len(test_row)>0:\n",
    "        test.append(test_row)\n",
    "    return test\n",
    "\n",
    "def DisplayImagesInColumns(images,image_columns=2, gallery_label=\"\"):\n",
    "    popup_css='''    \n",
    "    \n",
    "    <style>\n",
    "    .thumb img { \n",
    "        border:1px solid #000;\n",
    "        margin:3px;    \n",
    "        float:left;\n",
    "    }\n",
    "    .thumb span { \n",
    "        position:fixed;\n",
    "        visibility:hidden;\n",
    "    }\n",
    "    .thumb:hover, .thumb:hover span { \n",
    "        visibility:visible;\n",
    "        z-index:1;\n",
    "    }\n",
    "\n",
    "    </style>\n",
    "\n",
    "    '''\n",
    "    \n",
    "    html='''    \n",
    "    <a href={0} target=\"_blank\">\n",
    "    <img style='width: {1:2.0f}%; margin: 0px; float: left; border: 0px solid black;' src='{0}?{2}' />\n",
    "    </a>\n",
    "    '''\n",
    "    html='''    \n",
    "    <a href={0}  target=\"_blank\">\n",
    "    <img style='width: {1:2.0f}%; margin: 0px; float: left; border: 0px solid black;' src='{0}?{2}' />\n",
    "    </a>\n",
    "    '''\n",
    "    \n",
    "    #html='''    \n",
    "    #<a href={0}  data-lightbox={3} data-title=\"{0}\">\n",
    "    #<img style='width: {1:2.0f}%; margin: 0px; float: left; border: 0px solid black;' src='{0}?{2}' />\n",
    "    #</a>\n",
    "    #'''\n",
    "    \n",
    "    list2d = Change1dListTo2dList(images, column=image_columns)\n",
    "    width_percent = (1/float(image_columns))*100.0\n",
    "    gallery_label = gallery_label.replace(\" \",\"\")\n",
    "    for row in list2d:\n",
    "        imagesList=popup_css.join( [html.format(image,width_percent-2,time.time(),gallery_label) \n",
    "                     for image in row ])\n",
    "        display(HTML(imagesList))\n",
    "    return imagesList\n",
    "   \n",
    "\n",
    "# Helper Class to run class_cmd_strings and export the images that were created to the notebook\n",
    "class RunClassScript():\n",
    "    def __init__(self, cmd, no_output=False, display_images=True, test=False):\n",
    "        self.cmd = cmd\n",
    "        self.cmd_file = \"/tmp/cmd.class\"\n",
    "        self.cmd_log = \"/tmp/cmd.log\"\n",
    "        self.images = [string.split()[1].replace(\"\\\"\",\"\").replace(\"//\",\"/\") for string in self.cmd.split(\"\\n\") if string[0:2] == \"ha\"]\n",
    "        if self.cmd.split(\"\\n\")[-1].strip() != \"exit 0\":\n",
    "            self.cmd = \"{}\\nexit 0\\n\".format(self.cmd)\n",
    "        subprocess.call([\"rm\", \"-rf\", \"/tmp/cmd.class\"])\n",
    "        fileout = open(self.cmd_file, \"w\")\n",
    "        fileout.write(self.cmd)\n",
    "        fileout.close()\n",
    "        #output = subprocess.check_output(\"class -nw @{0}\".format(self.cmd_file), shell=True)\n",
    "        if test:\n",
    "            print(self.cmd)\n",
    "        try:\n",
    "            output = subprocess.check_call(\"class -nw @{0} > {1}\".format(self.cmd_file,self.cmd_log), shell=True)\n",
    "        except subprocess.CalledProcessError as e:\n",
    "            print(\"======================================\")\n",
    "            print(\"=========== ERROR in class cmd =======\")\n",
    "            print(\"======================================\")\n",
    "            print(\"\\n\")\n",
    "            print(\"======================================\")\n",
    "            print(\"============= INPUT FILE =============\")\n",
    "            print(\"======================================\")\n",
    "            with open(self.cmd_file, 'r') as fin:\n",
    "                for line in fin.readlines():\n",
    "                    if line[0]!=\" \":\n",
    "                        print(line.strip(\"\\n\"))\n",
    "            print(\"======================================\")\n",
    "            print(\"========= OUTPUT LOGFILE =============\")\n",
    "            print(\"======================================\")                        \n",
    "            with open(self.cmd_log, 'r') as fin:\n",
    "                for line in fin.readlines():\n",
    "                    if (len(set(line))>1):\n",
    "                        print(line.strip(\"\\n\"))\n",
    "            raise subprocess.CalledProcessError(e.returncode,e.cmd, e.output)\n",
    "        if output!=0:\n",
    "            print(output)\n",
    "            self.output=output\n",
    "        #\n",
    "        if display_images:\n",
    "            for image in self.images:\n",
    "                if os.path.exists(image):\n",
    "                    display(image, Image(image),width=300,height=300)\n",
    "                    \n",
    "def GenerateGIFAnimation(images,gif_filename):\n",
    "    convert_cmd = \"convert -delay 50\"\\\n",
    "                  \" -loop 0 \"\\\n",
    "                  \"{0} \"\\\n",
    "                  \"{1}\".format(images,gif_filename)\n",
    "    os.system(convert_cmd)\n",
    "    \n",
    "\n",
    "    from IPython.display import HTML\n",
    "    \n",
    "\n",
    "def DownloadFile(url,local_filename):\n",
    "    #local_filename = url.split('/')[-1]\n",
    "    r = requests.get(url)\n",
    "    f = open(local_filename, 'wb')\n",
    "    for chunk in r.iter_content(chunk_size=512 * 1024): \n",
    "        if chunk: # filter out keep-alive new chunks\n",
    "            f.write(chunk)\n",
    "    f.close()\n",
    "    return "
   ]
  },
  {
   "cell_type": "markdown",
   "metadata": {},
   "source": [
    "# Download test data from archive\n",
    "\n"
   ]
  },
  {
   "cell_type": "code",
   "execution_count": 117,
   "metadata": {},
   "outputs": [
    {
     "name": "stdout",
     "output_type": "stream",
     "text": [
      "downloading https://irsa.ipac.caltech.edu/data/SOFIA/GREAT/OC4K/20161116_F350/proc/p8488/data/2016-11-16_GR_F350_04_0066_0010506_1900536.9.great.tar to ./tmp/data//2016-11-16_GR_F350_04_0066_0010506_1900536.9.great.tar\n",
      " 2016-11-16_GR_F350_04_0066_0010506_1900536.9 extracting\n",
      "tar -xf ./tmp/data//2016-11-16_GR_F350_04_0066_0010506_1900536.9.great.tar --wildcards --no-anchored '*Tmb.great' --one-top-level=./tmp/data/\n"
     ]
    }
   ],
   "source": [
    "data_folder = \"./tmp/data/\"\n",
    "\n",
    "\n",
    "if not os.path.exists(data_folder):\n",
    "    print(\"making folder {0}\".format(data_folder))\n",
    "    #os.makedirs(data_folder)\n",
    "    os.makedirs(data_folder,exist_ok=True)\n",
    "    \n",
    "urls = []\n",
    "#urls.append(\"https://irsa.ipac.caltech.edu/data/SOFIA/GREAT/OC4K/20161110_F348/proc/p8486/data/2016-11-10_GR_F348_04_0066_0010505_1900536.9.great.tar\")\n",
    "#urls.append(\"https://irsa.ipac.caltech.edu/data/SOFIA/GREAT/OC5A/20170208_F371/proc/p4006/data/2017-02-08_GR_F371_04_0066_0010505_1900536.9.great.tar\")\n",
    "urls.append(\"https://irsa.ipac.caltech.edu/data/SOFIA/GREAT/OC4K/20161116_F350/proc/p8488/data/2016-11-16_GR_F350_04_0066_0010506_1900536.9.great.tar\")\n",
    "\n",
    "for url in urls:\n",
    "    filename = \"{0}/{1}\".format(data_folder,url.split('/')[-1])\n",
    "    if not os.path.exists(filename):\n",
    "        print(\"downloading {0} to {1}\".format(url, filename))\n",
    "        download_file(url, filename)\n",
    "    else:\n",
    "        print(\"{1} already downloaded\".format(url, filename))\n",
    "# untar\n",
    "already_downloaded_great = glob.glob(\"tmp/data/**/*.great\")\n",
    "#\n",
    "for url in urls:\n",
    "    # check for great file\n",
    "    tar_filename = \"{0}/{1}\".format(data_folder,url.split('/')[-1])\n",
    "    filename_great,ext = os.path.splitext(tar_filename)\n",
    "    full_filename_great,ext = os.path.splitext(os.path.basename(filename_great))\n",
    "    #\n",
    "    found = [filename for filename in  already_downloaded_great if full_filename_great in filename]\n",
    "    if len(found)>0:\n",
    "        print(\" {0} already extracted\".format(full_filename_great))\n",
    "    else:\n",
    "        print(\" {0} extracting\".format(full_filename_great))\n",
    "        cmd=\"tar -xf {0} --wildcards --no-anchored '*Tmb.great' --one-top-level={1}\".format(tar_filename,data_folder)\n",
    "        print(cmd)\n",
    "        output = subprocess.check_call(cmd, shell=True)"
   ]
  },
  {
   "cell_type": "markdown",
   "metadata": {},
   "source": [
    "# generate average pixel plot"
   ]
  },
  {
   "cell_type": "code",
   "execution_count": 113,
   "metadata": {},
   "outputs": [],
   "source": [
    "class_script='''\n",
    "@kosma-init\n",
    "file in \"{filename}\"\n",
    "find\n",
    "set unit v\n",
    "set mode x {min_x} {max_x}\n",
    "set mode y {min_y} {max_y}\n",
    "set line {line}\n",
    "set source {source}\n",
    "set window {window}\n",
    "\n",
    "find \n",
    "\n",
    "go where\n",
    "draw t 15 20 {plot_filename} 6\n",
    "ha \"{plot_filename}_go_where.png\" /dev png /overwrite\n",
    "\n",
    "plot_group /group_by telescope\n",
    "draw t 15 20 {plot_filename} 6\n",
    "ha \"{plot_filename}\" /dev png /overwrite\n",
    "'''"
   ]
  },
  {
   "cell_type": "code",
   "execution_count": 114,
   "metadata": {},
   "outputs": [
    {
     "name": "stdout",
     "output_type": "stream",
     "text": [
      "tmp/data/2017-02-08_GR_F371_04_0066_0010505_1900536.9/2017-02-08_GR_F371_04_0066_0010505_1900536.9_Tmb.great\n",
      "tmp/plots/plot_group_2017-02-08_GR_F371_04_0066_0010505_1900536.9_Tmb.great.png\n",
      "tmp/data/2016-11-10_GR_F348_04_0066_0010505_1900536.9/2016-11-10_GR_F348_04_0066_0010505_1900536.9_Tmb.great\n",
      "tmp/plots/plot_group_2016-11-10_GR_F348_04_0066_0010505_1900536.9_Tmb.great.png\n"
     ]
    },
    {
     "data": {
      "text/html": [
       "\n",
       "    <table style=\"width:100%\">\n",
       "        <tr>\n",
       "            <td style='text-align:center;vertical-align:middle'>Test message</td>\n",
       "        </tr>\n",
       "    </table>\n",
       "    "
      ],
      "text/plain": [
       "<IPython.core.display.HTML object>"
      ]
     },
     "metadata": {},
     "output_type": "display_data"
    },
    {
     "data": {
      "text/html": [
       "    \n",
       "    <a href=tmp/plots/plot_group_2017-02-08_GR_F371_04_0066_0010505_1900536.9_Tmb.great.png_go_where.png  target=\"_blank\">\n",
       "    <img style='width: 48%; margin: 0px; float: left; border: 0px solid black;' src='tmp/plots/plot_group_2017-02-08_GR_F371_04_0066_0010505_1900536.9_Tmb.great.png_go_where.png?1643635253.7578917' />\n",
       "    </a>\n",
       "        \n",
       "    \n",
       "    <style>\n",
       "    .thumb img { \n",
       "        border:1px solid #000;\n",
       "        margin:3px;    \n",
       "        float:left;\n",
       "    }\n",
       "    .thumb span { \n",
       "        position:fixed;\n",
       "        visibility:hidden;\n",
       "    }\n",
       "    .thumb:hover, .thumb:hover span { \n",
       "        visibility:visible;\n",
       "        z-index:1;\n",
       "    }\n",
       "\n",
       "    </style>\n",
       "\n",
       "        \n",
       "    <a href=tmp/plots/plot_group_2017-02-08_GR_F371_04_0066_0010505_1900536.9_Tmb.great.png  target=\"_blank\">\n",
       "    <img style='width: 48%; margin: 0px; float: left; border: 0px solid black;' src='tmp/plots/plot_group_2017-02-08_GR_F371_04_0066_0010505_1900536.9_Tmb.great.png?1643635253.7579067' />\n",
       "    </a>\n",
       "    "
      ],
      "text/plain": [
       "<IPython.core.display.HTML object>"
      ]
     },
     "metadata": {},
     "output_type": "display_data"
    },
    {
     "data": {
      "text/html": [
       "    \n",
       "    <a href=tmp/plots/plot_group_2016-11-10_GR_F348_04_0066_0010505_1900536.9_Tmb.great.png_go_where.png  target=\"_blank\">\n",
       "    <img style='width: 48%; margin: 0px; float: left; border: 0px solid black;' src='tmp/plots/plot_group_2016-11-10_GR_F348_04_0066_0010505_1900536.9_Tmb.great.png_go_where.png?1643635253.762815' />\n",
       "    </a>\n",
       "        \n",
       "    \n",
       "    <style>\n",
       "    .thumb img { \n",
       "        border:1px solid #000;\n",
       "        margin:3px;    \n",
       "        float:left;\n",
       "    }\n",
       "    .thumb span { \n",
       "        position:fixed;\n",
       "        visibility:hidden;\n",
       "    }\n",
       "    .thumb:hover, .thumb:hover span { \n",
       "        visibility:visible;\n",
       "        z-index:1;\n",
       "    }\n",
       "\n",
       "    </style>\n",
       "\n",
       "        \n",
       "    <a href=tmp/plots/plot_group_2016-11-10_GR_F348_04_0066_0010505_1900536.9_Tmb.great.png  target=\"_blank\">\n",
       "    <img style='width: 48%; margin: 0px; float: left; border: 0px solid black;' src='tmp/plots/plot_group_2016-11-10_GR_F348_04_0066_0010505_1900536.9_Tmb.great.png?1643635253.7628303' />\n",
       "    </a>\n",
       "    "
      ],
      "text/plain": [
       "<IPython.core.display.HTML object>"
      ]
     },
     "metadata": {},
     "output_type": "display_data"
    },
    {
     "data": {
      "text/plain": [
       "'    \\n    <a href=tmp/plots/plot_group_2016-11-10_GR_F348_04_0066_0010505_1900536.9_Tmb.great.png_go_where.png  target=\"_blank\">\\n    <img style=\\'width: 48%; margin: 0px; float: left; border: 0px solid black;\\' src=\\'tmp/plots/plot_group_2016-11-10_GR_F348_04_0066_0010505_1900536.9_Tmb.great.png_go_where.png?1643635253.762815\\' />\\n    </a>\\n        \\n    \\n    <style>\\n    .thumb img { \\n        border:1px solid #000;\\n        margin:3px;    \\n        float:left;\\n    }\\n    .thumb span { \\n        position:fixed;\\n        visibility:hidden;\\n    }\\n    .thumb:hover, .thumb:hover span { \\n        visibility:visible;\\n        z-index:1;\\n    }\\n\\n    </style>\\n\\n        \\n    <a href=tmp/plots/plot_group_2016-11-10_GR_F348_04_0066_0010505_1900536.9_Tmb.great.png  target=\"_blank\">\\n    <img style=\\'width: 48%; margin: 0px; float: left; border: 0px solid black;\\' src=\\'tmp/plots/plot_group_2016-11-10_GR_F348_04_0066_0010505_1900536.9_Tmb.great.png?1643635253.7628303\\' />\\n    </a>\\n    '"
      ]
     },
     "execution_count": 114,
     "metadata": {},
     "output_type": "execute_result"
    }
   ],
   "source": [
    "plots_folder = \"tmp/plots\"\n",
    "os.makedirs(plots_folder,exist_ok=True)\n",
    "#\n",
    "class_cmd = {}\n",
    "class_cmd['min_x'] = -40\n",
    "class_cmd['max_x'] = 40\n",
    "class_cmd['min_y'] = -30\n",
    "class_cmd['max_y'] = 130\n",
    "class_cmd['smooth'] = 10\n",
    "class_cmd['line'] = \"CII_L\"\n",
    "class_cmd['source'] = \"OMC_CENTER\"\n",
    "class_cmd['window'] = \"-20 20\"\n",
    "\n",
    "already_downloaded_great = glob.glob(\"tmp/data/**/*.great\")\n",
    "images = []\n",
    "for class_filename in already_downloaded_great:\n",
    "    print(class_filename)\n",
    "    class_cmd[\"filename\"] = os.path.abspath(class_filename)    \n",
    "    class_cmd[\"plot_filename\"] = \"{0}/plot_group_{1}.png\".format(plots_folder,os.path.basename(class_filename))\n",
    "    print(class_cmd[\"plot_filename\"])\n",
    "    cmd=class_script.format(**class_cmd)\n",
    "    output = RunClassScript(cmd, no_output=False,display_images=False)\n",
    "    images.extend(output.images)\n",
    "message = \"Test message\"\n",
    "PrintMessage(message)\n",
    "DisplayImagesInColumns(images,2,'test_gallery')"
   ]
  },
  {
   "cell_type": "code",
   "execution_count": 116,
   "metadata": {},
   "outputs": [
    {
     "name": "stdout",
     "output_type": "stream",
     "text": [
      "/tmp/cmd.log\n"
     ]
    }
   ],
   "source": [
    "print(output.cmd_log)"
   ]
  },
  {
   "cell_type": "markdown",
   "metadata": {},
   "source": [
    "# Generate overview plots\n",
    "Here is an example of simple script to plot a single class spectra and display this in the notebook"
   ]
  }
 ],
 "metadata": {
  "kernelspec": {
   "display_name": "common36",
   "language": "python",
   "name": "common36"
  },
  "language_info": {
   "codemirror_mode": {
    "name": "ipython",
    "version": 3
   },
   "file_extension": ".py",
   "mimetype": "text/x-python",
   "name": "python",
   "nbconvert_exporter": "python",
   "pygments_lexer": "ipython3",
   "version": "3.6.8"
  }
 },
 "nbformat": 4,
 "nbformat_minor": 1
}
